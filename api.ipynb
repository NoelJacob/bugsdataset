{
 "cells": [
  {
   "cell_type": "code",
   "execution_count": null,
   "metadata": {
    "pycharm": {
     "is_executing": true
    }
   },
   "outputs": [],
   "source": [
    "%pip install python-dotenv alpaca-py requests pandas"
   ]
  },
  {
   "cell_type": "code",
   "execution_count": null,
   "outputs": [],
   "source": [
    "%reload_ext dotenv\n",
    "%dotenv"
   ],
   "metadata": {
    "collapsed": false
   }
  },
  {
   "cell_type": "code",
   "execution_count": null,
   "metadata": {},
   "outputs": [],
   "source": [
    "from alpaca.data.historical.crypto import CryptoHistoricalDataClient\n",
    "from alpaca.data.requests import CryptoBarsRequest\n",
    "from alpaca.data.timeframe import TimeFrame\n",
    "import pandas as pd\n",
    "from os import getenv\n",
    "from datetime import datetime\n",
    "import pytz\n",
    "from itertools import product"
   ]
  },
  {
   "cell_type": "code",
   "execution_count": null,
   "metadata": {},
   "outputs": [],
   "source": [
    "# Get supported pairs\n",
    "import requests\n",
    "r = requests.get(url='https://api.alpaca.markets/v2/assets?asset_class=crypto', headers={'Apca-Api-Key-Id': getenv('KEY_ID'), 'Apca-Api-Secret-Key': getenv('SECRET_KEY')})\n",
    "assets = []\n",
    "for x in r.json():\n",
    "    assets.append(x[\"symbol\"])\n",
    "print(len(assets))"
   ]
  },
  {
   "cell_type": "code",
   "execution_count": null,
   "metadata": {},
   "outputs": [],
   "source": [
    "client = CryptoHistoricalDataClient(api_key=getenv('KEY_ID'), secret_key=getenv('SECRET_KEY'))\n",
    "req = CryptoBarsRequest(symbol_or_symbols=assets, timeframe=TimeFrame.Minute, start=datetime(year=2008, month=1, day=1))\n",
    "bars = client.get_crypto_bars(request_params=req, feed=\"us\")\n",
    "df = bars.df"
   ]
  },
  {
   "cell_type": "code",
   "execution_count": null,
   "outputs": [],
   "source": [
    "currencies = df.index.get_level_values(0).unique()\n",
    "times = df.index.get_level_values(1).unique()\n",
    "idx = df.index\n",
    "pairs = list(product(currencies, times))\n",
    "missing = [x for x in pairs if x not in idx]\n",
    "missing_currencies = pd.Series([x[0] for x in missing]).unique().tolist()\n",
    "print(missing_currencies)\n",
    "df.drop(missing_currencies, level=0, inplace=True)"
   ],
   "metadata": {
    "collapsed": false
   }
  },
  {
   "cell_type": "code",
   "execution_count": null,
   "outputs": [],
   "source": [
    "df.to_csv('data.csv')"
   ],
   "metadata": {
    "collapsed": false
   }
  }
 ],
 "metadata": {
  "kernelspec": {
   "name": "python3",
   "language": "python",
   "display_name": "Python 3 (ipykernel)"
  },
  "language_info": {
   "codemirror_mode": {
    "name": "ipython",
    "version": 3
   },
   "file_extension": ".py",
   "mimetype": "text/x-python",
   "name": "python",
   "nbconvert_exporter": "python",
   "pygments_lexer": "ipython3",
   "version": "3.10.10"
  }
 },
 "nbformat": 4,
 "nbformat_minor": 1
}
