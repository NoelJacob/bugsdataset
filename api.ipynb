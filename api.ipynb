{
 "cells": [
  {
   "cell_type": "code",
   "execution_count": 1,
   "metadata": {
    "pycharm": {
     "is_executing": true
    },
    "ExecuteTime": {
     "end_time": "2023-05-19T12:20:52.848396618Z",
     "start_time": "2023-05-19T12:20:49.717395446Z"
    }
   },
   "outputs": [
    {
     "name": "stdout",
     "output_type": "stream",
     "text": [
      "Requirement already satisfied: python-dotenv in ./.venv/lib/python3.11/site-packages (1.0.0)\r\n",
      "Requirement already satisfied: alpaca-py in ./.venv/lib/python3.11/site-packages (0.8.2)\r\n",
      "Requirement already satisfied: requests in ./.venv/lib/python3.11/site-packages (2.30.0)\r\n",
      "Requirement already satisfied: pandas in ./.venv/lib/python3.11/site-packages (1.5.3)\r\n",
      "Requirement already satisfied: msgpack<2.0.0,>=1.0.3 in ./.venv/lib/python3.11/site-packages (from alpaca-py) (1.0.5)\r\n",
      "Requirement already satisfied: pydantic<2.0.0,>=1.9.0 in ./.venv/lib/python3.11/site-packages (from alpaca-py) (1.10.7)\r\n",
      "Requirement already satisfied: sseclient-py<2.0.0,>=1.7.2 in ./.venv/lib/python3.11/site-packages (from alpaca-py) (1.7.2)\r\n",
      "Requirement already satisfied: websockets<11.0,>=10.2 in ./.venv/lib/python3.11/site-packages (from alpaca-py) (10.4)\r\n",
      "Requirement already satisfied: charset-normalizer<4,>=2 in ./.venv/lib/python3.11/site-packages (from requests) (3.1.0)\r\n",
      "Requirement already satisfied: idna<4,>=2.5 in ./.venv/lib/python3.11/site-packages (from requests) (3.4)\r\n",
      "Requirement already satisfied: urllib3<3,>=1.21.1 in ./.venv/lib/python3.11/site-packages (from requests) (2.0.2)\r\n",
      "Requirement already satisfied: certifi>=2017.4.17 in ./.venv/lib/python3.11/site-packages (from requests) (2023.5.7)\r\n",
      "Requirement already satisfied: python-dateutil>=2.8.1 in ./.venv/lib/python3.11/site-packages (from pandas) (2.8.2)\r\n",
      "Requirement already satisfied: pytz>=2020.1 in ./.venv/lib/python3.11/site-packages (from pandas) (2023.3)\r\n",
      "Requirement already satisfied: numpy>=1.21.0 in ./.venv/lib/python3.11/site-packages (from pandas) (1.24.3)\r\n",
      "Requirement already satisfied: typing-extensions>=4.2.0 in ./.venv/lib/python3.11/site-packages (from pydantic<2.0.0,>=1.9.0->alpaca-py) (4.5.0)\r\n",
      "Requirement already satisfied: six>=1.5 in ./.venv/lib/python3.11/site-packages (from python-dateutil>=2.8.1->pandas) (1.16.0)\r\n",
      "\r\n",
      "\u001B[1m[\u001B[0m\u001B[34;49mnotice\u001B[0m\u001B[1;39;49m]\u001B[0m\u001B[39;49m A new release of pip available: \u001B[0m\u001B[31;49m22.3.1\u001B[0m\u001B[39;49m -> \u001B[0m\u001B[32;49m23.1.2\u001B[0m\r\n",
      "\u001B[1m[\u001B[0m\u001B[34;49mnotice\u001B[0m\u001B[1;39;49m]\u001B[0m\u001B[39;49m To update, run: \u001B[0m\u001B[32;49mpip install --upgrade pip\u001B[0m\r\n",
      "Note: you may need to restart the kernel to use updated packages.\n"
     ]
    }
   ],
   "source": [
    "%pip install python-dotenv alpaca-py requests pandas"
   ]
  },
  {
   "cell_type": "code",
   "execution_count": 2,
   "outputs": [],
   "source": [
    "%reload_ext dotenv\n",
    "%dotenv"
   ],
   "metadata": {
    "collapsed": false,
    "ExecuteTime": {
     "end_time": "2023-05-19T12:20:52.892131625Z",
     "start_time": "2023-05-19T12:20:52.867172155Z"
    }
   }
  },
  {
   "cell_type": "code",
   "execution_count": 3,
   "metadata": {
    "ExecuteTime": {
     "end_time": "2023-05-19T12:20:54.317946211Z",
     "start_time": "2023-05-19T12:20:52.876165624Z"
    }
   },
   "outputs": [],
   "source": [
    "from alpaca.data.historical.crypto import CryptoHistoricalDataClient\n",
    "from alpaca.data.requests import CryptoBarsRequest\n",
    "from alpaca.data.timeframe import TimeFrame\n",
    "import pandas as pd\n",
    "from os import getenv, makedirs\n",
    "from datetime import datetime\n",
    "import pytz\n",
    "from itertools import product"
   ]
  },
  {
   "cell_type": "code",
   "execution_count": 4,
   "metadata": {
    "ExecuteTime": {
     "end_time": "2023-05-19T12:20:55.384896549Z",
     "start_time": "2023-05-19T12:20:54.324615639Z"
    }
   },
   "outputs": [
    {
     "name": "stdout",
     "output_type": "stream",
     "text": [
      "45\n"
     ]
    }
   ],
   "source": [
    "# Get supported pairs\n",
    "import requests\n",
    "r = requests.get(url='https://api.alpaca.markets/v2/assets?asset_class=crypto', headers={'Apca-Api-Key-Id': getenv('KEY_ID'), 'Apca-Api-Secret-Key': getenv('SECRET_KEY')})\n",
    "assets = []\n",
    "for x in r.json():\n",
    "    assets.append(x[\"symbol\"])\n",
    "print(len(assets))"
   ]
  },
  {
   "cell_type": "code",
   "execution_count": null,
   "metadata": {
    "is_executing": true,
    "ExecuteTime": {
     "start_time": "2023-05-19T12:20:55.393836889Z"
    }
   },
   "outputs": [
    {
     "name": "stdout",
     "output_type": "stream",
     "text": [
      "2023-04-19 17:50:55.391818 2023-05-19 17:50:55.391818\n",
      "2023-03-19 17:50:55.391818 2023-04-19 17:50:55.391818\n",
      "2023-02-19 17:50:55.391818 2023-03-19 17:50:55.391818\n",
      "2023-01-19 17:50:55.391818 2023-02-19 17:50:55.391818\n"
     ]
    }
   ],
   "source": [
    "client = CryptoHistoricalDataClient(api_key=getenv('KEY_ID'), secret_key=getenv('SECRET_KEY'))\n",
    "makedirs(\"./data/\",exist_ok=True)\n",
    "base = datetime.today()\n",
    "date_list = [pd.Timestamp(base) - pd.DateOffset(months=x) for x in range(0, 12*5)]\n",
    "for end in date_list:\n",
    "    start = end - pd.DateOffset(months=1)\n",
    "    print(start, end)\n",
    "    req = CryptoBarsRequest(symbol_or_symbols=assets, timeframe=TimeFrame.Minute, start=start, end=end)\n",
    "    bars = client.get_crypto_bars(request_params=req, feed=\"us\")\n",
    "    df = bars.df\n",
    "    df.to_csv(f'./data/{str(start.date()).replace(\"-\",\"_\")}.csv')"
   ]
  },
  {
   "cell_type": "code",
   "execution_count": null,
   "outputs": [],
   "source": [
    "# currencies = df.index.get_level_values(0).unique()\n",
    "# times = df.index.get_level_values(1).unique()\n",
    "# idx = df.index\n",
    "# pairs = list(product(currencies, times))\n",
    "# missing = [x for x in pairs if x not in idx]\n",
    "# missing_currencies = pd.Series([x[0] for x in missing]).unique().tolist()\n",
    "# print(missing_currencies)\n",
    "# df.drop(missing_currencies, level=0, inplace=True)"
   ],
   "metadata": {
    "collapsed": false,
    "is_executing": true,
    "ExecuteTime": {
     "start_time": "2023-05-19T12:36:49.991009685Z"
    }
   }
  },
  {
   "cell_type": "code",
   "execution_count": null,
   "outputs": [],
   "source": [
    "# df.to_csv('data.csv')"
   ],
   "metadata": {
    "collapsed": false,
    "is_executing": true,
    "ExecuteTime": {
     "start_time": "2023-05-19T12:36:49.997388872Z"
    }
   }
  }
 ],
 "metadata": {
  "kernelspec": {
   "name": "python3",
   "language": "python",
   "display_name": "Python 3 (ipykernel)"
  },
  "language_info": {
   "codemirror_mode": {
    "name": "ipython",
    "version": 3
   },
   "file_extension": ".py",
   "mimetype": "text/x-python",
   "name": "python",
   "nbconvert_exporter": "python",
   "pygments_lexer": "ipython3",
   "version": "3.10.10"
  }
 },
 "nbformat": 4,
 "nbformat_minor": 1
}
